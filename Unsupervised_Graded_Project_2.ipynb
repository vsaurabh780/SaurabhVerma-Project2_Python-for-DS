{
 "cells": [
  {
   "cell_type": "markdown",
   "id": "9a8089c3",
   "metadata": {},
   "source": [
    "# 1. Import the required libraries and load the data:"
   ]
  },
  {
   "cell_type": "code",
   "execution_count": 1,
   "id": "19b66e8f",
   "metadata": {},
   "outputs": [],
   "source": [
    "#Load the required libraries and read the dataset\n",
    "import numpy as np\n",
    "import pandas as pd   \n",
    "import seaborn as sns\n",
    "import matplotlib.pyplot as plt\n",
    "import sklearn\n",
    "from sklearn.preprocessing import StandardScaler\n",
    "from sklearn.model_selection import train_test_split\n",
    "from sklearn.metrics import accuracy_score,confusion_matrix\n",
    "import scipy.stats as stats\n",
    "from scipy import stats\n",
    "from sklearn.cluster import KMeans\n",
    "from scipy.stats import zscore\n",
    "from scipy.spatial import distance\n",
    "from scipy.cluster.hierarchy import linkage, dendrogram, fcluster\n",
    "from sklearn.cluster import AgglomerativeClustering\n",
    "from sklearn.metrics import accuracy_score\n",
    "\n",
    "import warnings\n",
    "warnings.filterwarnings('ignore')"
   ]
  },
  {
   "cell_type": "code",
   "execution_count": 2,
   "id": "cef000c3",
   "metadata": {},
   "outputs": [],
   "source": [
    "#1.Loading the dataset using pandas\n",
    "df=pd.read_csv('renttherunway-1.csv')"
   ]
  },
  {
   "cell_type": "code",
   "execution_count": 3,
   "id": "5fb867e7",
   "metadata": {},
   "outputs": [
    {
     "data": {
      "text/html": [
       "<div>\n",
       "<style scoped>\n",
       "    .dataframe tbody tr th:only-of-type {\n",
       "        vertical-align: middle;\n",
       "    }\n",
       "\n",
       "    .dataframe tbody tr th {\n",
       "        vertical-align: top;\n",
       "    }\n",
       "\n",
       "    .dataframe thead th {\n",
       "        text-align: right;\n",
       "    }\n",
       "</style>\n",
       "<table border=\"1\" class=\"dataframe\">\n",
       "  <thead>\n",
       "    <tr style=\"text-align: right;\">\n",
       "      <th></th>\n",
       "      <th>Unnamed: 0</th>\n",
       "      <th>fit</th>\n",
       "      <th>user_id</th>\n",
       "      <th>bust size</th>\n",
       "      <th>item_id</th>\n",
       "      <th>weight</th>\n",
       "      <th>rating</th>\n",
       "      <th>rented for</th>\n",
       "      <th>review_text</th>\n",
       "      <th>body type</th>\n",
       "      <th>review_summary</th>\n",
       "      <th>category</th>\n",
       "      <th>height</th>\n",
       "      <th>size</th>\n",
       "      <th>age</th>\n",
       "      <th>review_date</th>\n",
       "    </tr>\n",
       "  </thead>\n",
       "  <tbody>\n",
       "    <tr>\n",
       "      <th>0</th>\n",
       "      <td>0</td>\n",
       "      <td>fit</td>\n",
       "      <td>420272</td>\n",
       "      <td>34d</td>\n",
       "      <td>2260466</td>\n",
       "      <td>137lbs</td>\n",
       "      <td>10.0</td>\n",
       "      <td>vacation</td>\n",
       "      <td>An adorable romper! Belt and zipper were a lit...</td>\n",
       "      <td>hourglass</td>\n",
       "      <td>So many compliments!</td>\n",
       "      <td>romper</td>\n",
       "      <td>5' 8\"</td>\n",
       "      <td>14</td>\n",
       "      <td>28.0</td>\n",
       "      <td>April 20, 2016</td>\n",
       "    </tr>\n",
       "    <tr>\n",
       "      <th>1</th>\n",
       "      <td>1</td>\n",
       "      <td>fit</td>\n",
       "      <td>273551</td>\n",
       "      <td>34b</td>\n",
       "      <td>153475</td>\n",
       "      <td>132lbs</td>\n",
       "      <td>10.0</td>\n",
       "      <td>other</td>\n",
       "      <td>I rented this dress for a photo shoot. The the...</td>\n",
       "      <td>straight &amp; narrow</td>\n",
       "      <td>I felt so glamourous!!!</td>\n",
       "      <td>gown</td>\n",
       "      <td>5' 6\"</td>\n",
       "      <td>12</td>\n",
       "      <td>36.0</td>\n",
       "      <td>June 18, 2013</td>\n",
       "    </tr>\n",
       "    <tr>\n",
       "      <th>2</th>\n",
       "      <td>2</td>\n",
       "      <td>fit</td>\n",
       "      <td>360448</td>\n",
       "      <td>NaN</td>\n",
       "      <td>1063761</td>\n",
       "      <td>NaN</td>\n",
       "      <td>10.0</td>\n",
       "      <td>party</td>\n",
       "      <td>This hugged in all the right places! It was a ...</td>\n",
       "      <td>NaN</td>\n",
       "      <td>It was a great time to celebrate the (almost) ...</td>\n",
       "      <td>sheath</td>\n",
       "      <td>5' 4\"</td>\n",
       "      <td>4</td>\n",
       "      <td>116.0</td>\n",
       "      <td>December 14, 2015</td>\n",
       "    </tr>\n",
       "    <tr>\n",
       "      <th>3</th>\n",
       "      <td>3</td>\n",
       "      <td>fit</td>\n",
       "      <td>909926</td>\n",
       "      <td>34c</td>\n",
       "      <td>126335</td>\n",
       "      <td>135lbs</td>\n",
       "      <td>8.0</td>\n",
       "      <td>formal affair</td>\n",
       "      <td>I rented this for my company's black tie award...</td>\n",
       "      <td>pear</td>\n",
       "      <td>Dress arrived on time and in perfect condition.</td>\n",
       "      <td>dress</td>\n",
       "      <td>5' 5\"</td>\n",
       "      <td>8</td>\n",
       "      <td>34.0</td>\n",
       "      <td>February 12, 2014</td>\n",
       "    </tr>\n",
       "    <tr>\n",
       "      <th>4</th>\n",
       "      <td>4</td>\n",
       "      <td>fit</td>\n",
       "      <td>151944</td>\n",
       "      <td>34b</td>\n",
       "      <td>616682</td>\n",
       "      <td>145lbs</td>\n",
       "      <td>10.0</td>\n",
       "      <td>wedding</td>\n",
       "      <td>I have always been petite in my upper body and...</td>\n",
       "      <td>athletic</td>\n",
       "      <td>Was in love with this dress !!!</td>\n",
       "      <td>gown</td>\n",
       "      <td>5' 9\"</td>\n",
       "      <td>12</td>\n",
       "      <td>27.0</td>\n",
       "      <td>September 26, 2016</td>\n",
       "    </tr>\n",
       "  </tbody>\n",
       "</table>\n",
       "</div>"
      ],
      "text/plain": [
       "   Unnamed: 0  fit  user_id bust size  item_id  weight  rating     rented for  \\\n",
       "0           0  fit   420272       34d  2260466  137lbs    10.0       vacation   \n",
       "1           1  fit   273551       34b   153475  132lbs    10.0          other   \n",
       "2           2  fit   360448       NaN  1063761     NaN    10.0          party   \n",
       "3           3  fit   909926       34c   126335  135lbs     8.0  formal affair   \n",
       "4           4  fit   151944       34b   616682  145lbs    10.0        wedding   \n",
       "\n",
       "                                         review_text          body type  \\\n",
       "0  An adorable romper! Belt and zipper were a lit...          hourglass   \n",
       "1  I rented this dress for a photo shoot. The the...  straight & narrow   \n",
       "2  This hugged in all the right places! It was a ...                NaN   \n",
       "3  I rented this for my company's black tie award...               pear   \n",
       "4  I have always been petite in my upper body and...           athletic   \n",
       "\n",
       "                                      review_summary category height  size  \\\n",
       "0                               So many compliments!   romper  5' 8\"    14   \n",
       "1                            I felt so glamourous!!!     gown  5' 6\"    12   \n",
       "2  It was a great time to celebrate the (almost) ...   sheath  5' 4\"     4   \n",
       "3   Dress arrived on time and in perfect condition.     dress  5' 5\"     8   \n",
       "4                    Was in love with this dress !!!     gown  5' 9\"    12   \n",
       "\n",
       "     age         review_date  \n",
       "0   28.0      April 20, 2016  \n",
       "1   36.0       June 18, 2013  \n",
       "2  116.0   December 14, 2015  \n",
       "3   34.0   February 12, 2014  \n",
       "4   27.0  September 26, 2016  "
      ]
     },
     "execution_count": 3,
     "metadata": {},
     "output_type": "execute_result"
    }
   ],
   "source": [
    "#2.Check the first few samples, shape, info of the data and try to familiarize yourself with different features\n",
    "#Let's check if the dataset is uploaded\n",
    "df.head()"
   ]
  },
  {
   "cell_type": "code",
   "execution_count": 4,
   "id": "58085f6a",
   "metadata": {},
   "outputs": [
    {
     "data": {
      "text/plain": [
       "(192544, 16)"
      ]
     },
     "execution_count": 4,
     "metadata": {},
     "output_type": "execute_result"
    }
   ],
   "source": [
    "df.shape\n",
    "#There are 192544 records and 16 columns in the dataset"
   ]
  },
  {
   "cell_type": "code",
   "execution_count": 5,
   "id": "d2402877",
   "metadata": {},
   "outputs": [
    {
     "data": {
      "text/plain": [
       "3080704"
      ]
     },
     "execution_count": 5,
     "metadata": {},
     "output_type": "execute_result"
    }
   ],
   "source": [
    "df.size"
   ]
  },
  {
   "cell_type": "code",
   "execution_count": 6,
   "id": "75202fff",
   "metadata": {},
   "outputs": [
    {
     "name": "stdout",
     "output_type": "stream",
     "text": [
      "<class 'pandas.core.frame.DataFrame'>\n",
      "RangeIndex: 192544 entries, 0 to 192543\n",
      "Data columns (total 16 columns):\n",
      " #   Column          Non-Null Count   Dtype  \n",
      "---  ------          --------------   -----  \n",
      " 0   Unnamed: 0      192544 non-null  int64  \n",
      " 1   fit             192544 non-null  object \n",
      " 2   user_id         192544 non-null  int64  \n",
      " 3   bust size       174133 non-null  object \n",
      " 4   item_id         192544 non-null  int64  \n",
      " 5   weight          162562 non-null  object \n",
      " 6   rating          192462 non-null  float64\n",
      " 7   rented for      192534 non-null  object \n",
      " 8   review_text     192482 non-null  object \n",
      " 9   body type       177907 non-null  object \n",
      " 10  review_summary  192199 non-null  object \n",
      " 11  category        192544 non-null  object \n",
      " 12  height          191867 non-null  object \n",
      " 13  size            192544 non-null  int64  \n",
      " 14  age             191584 non-null  float64\n",
      " 15  review_date     192544 non-null  object \n",
      "dtypes: float64(2), int64(4), object(10)\n",
      "memory usage: 23.5+ MB\n"
     ]
    }
   ],
   "source": [
    "df.info()\n",
    "#Most of the columns are of object datatype(10), 4 columns have int data type and 2 columns are of float datatype"
   ]
  },
  {
   "cell_type": "markdown",
   "id": "0f93fd75",
   "metadata": {},
   "source": [
    "# 2. Data cleansing and Exploratory data analysis: [ Score: 20 point ]"
   ]
  },
  {
   "cell_type": "code",
   "execution_count": 7,
   "id": "f85e0f71",
   "metadata": {},
   "outputs": [
    {
     "data": {
      "text/plain": [
       "0         False\n",
       "1         False\n",
       "2         False\n",
       "3         False\n",
       "4         False\n",
       "          ...  \n",
       "192539    False\n",
       "192540    False\n",
       "192541    False\n",
       "192542    False\n",
       "192543    False\n",
       "Length: 192544, dtype: bool"
      ]
     },
     "execution_count": 7,
     "metadata": {},
     "output_type": "execute_result"
    }
   ],
   "source": [
    "#3.Check if there are any duplicate records in the dataset? If any drop them.\n",
    "df.duplicated()\n",
    "\n",
    "#There are no duplicate records in the dataset"
   ]
  },
  {
   "cell_type": "code",
   "execution_count": 8,
   "id": "8e2e1434",
   "metadata": {},
   "outputs": [
    {
     "data": {
      "text/html": [
       "<div>\n",
       "<style scoped>\n",
       "    .dataframe tbody tr th:only-of-type {\n",
       "        vertical-align: middle;\n",
       "    }\n",
       "\n",
       "    .dataframe tbody tr th {\n",
       "        vertical-align: top;\n",
       "    }\n",
       "\n",
       "    .dataframe thead th {\n",
       "        text-align: right;\n",
       "    }\n",
       "</style>\n",
       "<table border=\"1\" class=\"dataframe\">\n",
       "  <thead>\n",
       "    <tr style=\"text-align: right;\">\n",
       "      <th></th>\n",
       "      <th>Unnamed: 0</th>\n",
       "      <th>fit</th>\n",
       "      <th>bust size</th>\n",
       "      <th>weight</th>\n",
       "      <th>rating</th>\n",
       "      <th>rented for</th>\n",
       "      <th>body type</th>\n",
       "      <th>category</th>\n",
       "      <th>height</th>\n",
       "      <th>size</th>\n",
       "      <th>age</th>\n",
       "    </tr>\n",
       "  </thead>\n",
       "  <tbody>\n",
       "    <tr>\n",
       "      <th>0</th>\n",
       "      <td>0</td>\n",
       "      <td>fit</td>\n",
       "      <td>34d</td>\n",
       "      <td>137lbs</td>\n",
       "      <td>10.0</td>\n",
       "      <td>vacation</td>\n",
       "      <td>hourglass</td>\n",
       "      <td>romper</td>\n",
       "      <td>5' 8\"</td>\n",
       "      <td>14</td>\n",
       "      <td>28.0</td>\n",
       "    </tr>\n",
       "    <tr>\n",
       "      <th>1</th>\n",
       "      <td>1</td>\n",
       "      <td>fit</td>\n",
       "      <td>34b</td>\n",
       "      <td>132lbs</td>\n",
       "      <td>10.0</td>\n",
       "      <td>other</td>\n",
       "      <td>straight &amp; narrow</td>\n",
       "      <td>gown</td>\n",
       "      <td>5' 6\"</td>\n",
       "      <td>12</td>\n",
       "      <td>36.0</td>\n",
       "    </tr>\n",
       "    <tr>\n",
       "      <th>2</th>\n",
       "      <td>2</td>\n",
       "      <td>fit</td>\n",
       "      <td>NaN</td>\n",
       "      <td>NaN</td>\n",
       "      <td>10.0</td>\n",
       "      <td>party</td>\n",
       "      <td>NaN</td>\n",
       "      <td>sheath</td>\n",
       "      <td>5' 4\"</td>\n",
       "      <td>4</td>\n",
       "      <td>116.0</td>\n",
       "    </tr>\n",
       "    <tr>\n",
       "      <th>3</th>\n",
       "      <td>3</td>\n",
       "      <td>fit</td>\n",
       "      <td>34c</td>\n",
       "      <td>135lbs</td>\n",
       "      <td>8.0</td>\n",
       "      <td>formal affair</td>\n",
       "      <td>pear</td>\n",
       "      <td>dress</td>\n",
       "      <td>5' 5\"</td>\n",
       "      <td>8</td>\n",
       "      <td>34.0</td>\n",
       "    </tr>\n",
       "    <tr>\n",
       "      <th>4</th>\n",
       "      <td>4</td>\n",
       "      <td>fit</td>\n",
       "      <td>34b</td>\n",
       "      <td>145lbs</td>\n",
       "      <td>10.0</td>\n",
       "      <td>wedding</td>\n",
       "      <td>athletic</td>\n",
       "      <td>gown</td>\n",
       "      <td>5' 9\"</td>\n",
       "      <td>12</td>\n",
       "      <td>27.0</td>\n",
       "    </tr>\n",
       "  </tbody>\n",
       "</table>\n",
       "</div>"
      ],
      "text/plain": [
       "   Unnamed: 0  fit bust size  weight  rating     rented for  \\\n",
       "0           0  fit       34d  137lbs    10.0       vacation   \n",
       "1           1  fit       34b  132lbs    10.0          other   \n",
       "2           2  fit       NaN     NaN    10.0          party   \n",
       "3           3  fit       34c  135lbs     8.0  formal affair   \n",
       "4           4  fit       34b  145lbs    10.0        wedding   \n",
       "\n",
       "           body type category height  size    age  \n",
       "0          hourglass   romper  5' 8\"    14   28.0  \n",
       "1  straight & narrow     gown  5' 6\"    12   36.0  \n",
       "2                NaN   sheath  5' 4\"     4  116.0  \n",
       "3               pear    dress  5' 5\"     8   34.0  \n",
       "4           athletic     gown  5' 9\"    12   27.0  "
      ]
     },
     "execution_count": 8,
     "metadata": {},
     "output_type": "execute_result"
    }
   ],
   "source": [
    "#4.Drop the columns which you think redundant for the analysis.(Hint: drop columns like ‘id’, ‘review’)\n",
    "df.drop(['user_id','item_id','review_text','review_summary','review_date'],axis=1,inplace=True)\n",
    "df.head()"
   ]
  },
  {
   "cell_type": "code",
   "execution_count": 9,
   "id": "0e1bc8bf",
   "metadata": {},
   "outputs": [
    {
     "data": {
      "text/html": [
       "<div>\n",
       "<style scoped>\n",
       "    .dataframe tbody tr th:only-of-type {\n",
       "        vertical-align: middle;\n",
       "    }\n",
       "\n",
       "    .dataframe tbody tr th {\n",
       "        vertical-align: top;\n",
       "    }\n",
       "\n",
       "    .dataframe thead th {\n",
       "        text-align: right;\n",
       "    }\n",
       "</style>\n",
       "<table border=\"1\" class=\"dataframe\">\n",
       "  <thead>\n",
       "    <tr style=\"text-align: right;\">\n",
       "      <th></th>\n",
       "      <th>Unnamed: 0</th>\n",
       "      <th>fit</th>\n",
       "      <th>bust size</th>\n",
       "      <th>weight</th>\n",
       "      <th>rating</th>\n",
       "      <th>rented for</th>\n",
       "      <th>body type</th>\n",
       "      <th>category</th>\n",
       "      <th>height</th>\n",
       "      <th>size</th>\n",
       "      <th>age</th>\n",
       "    </tr>\n",
       "  </thead>\n",
       "  <tbody>\n",
       "    <tr>\n",
       "      <th>0</th>\n",
       "      <td>0</td>\n",
       "      <td>fit</td>\n",
       "      <td>34d</td>\n",
       "      <td>137.0</td>\n",
       "      <td>10.0</td>\n",
       "      <td>vacation</td>\n",
       "      <td>hourglass</td>\n",
       "      <td>romper</td>\n",
       "      <td>5' 8\"</td>\n",
       "      <td>14</td>\n",
       "      <td>28.0</td>\n",
       "    </tr>\n",
       "    <tr>\n",
       "      <th>1</th>\n",
       "      <td>1</td>\n",
       "      <td>fit</td>\n",
       "      <td>34b</td>\n",
       "      <td>132.0</td>\n",
       "      <td>10.0</td>\n",
       "      <td>other</td>\n",
       "      <td>straight &amp; narrow</td>\n",
       "      <td>gown</td>\n",
       "      <td>5' 6\"</td>\n",
       "      <td>12</td>\n",
       "      <td>36.0</td>\n",
       "    </tr>\n",
       "    <tr>\n",
       "      <th>2</th>\n",
       "      <td>2</td>\n",
       "      <td>fit</td>\n",
       "      <td>NaN</td>\n",
       "      <td>NaN</td>\n",
       "      <td>10.0</td>\n",
       "      <td>party</td>\n",
       "      <td>NaN</td>\n",
       "      <td>sheath</td>\n",
       "      <td>5' 4\"</td>\n",
       "      <td>4</td>\n",
       "      <td>116.0</td>\n",
       "    </tr>\n",
       "    <tr>\n",
       "      <th>3</th>\n",
       "      <td>3</td>\n",
       "      <td>fit</td>\n",
       "      <td>34c</td>\n",
       "      <td>135.0</td>\n",
       "      <td>8.0</td>\n",
       "      <td>formal affair</td>\n",
       "      <td>pear</td>\n",
       "      <td>dress</td>\n",
       "      <td>5' 5\"</td>\n",
       "      <td>8</td>\n",
       "      <td>34.0</td>\n",
       "    </tr>\n",
       "    <tr>\n",
       "      <th>4</th>\n",
       "      <td>4</td>\n",
       "      <td>fit</td>\n",
       "      <td>34b</td>\n",
       "      <td>145.0</td>\n",
       "      <td>10.0</td>\n",
       "      <td>wedding</td>\n",
       "      <td>athletic</td>\n",
       "      <td>gown</td>\n",
       "      <td>5' 9\"</td>\n",
       "      <td>12</td>\n",
       "      <td>27.0</td>\n",
       "    </tr>\n",
       "  </tbody>\n",
       "</table>\n",
       "</div>"
      ],
      "text/plain": [
       "   Unnamed: 0  fit bust size  weight  rating     rented for  \\\n",
       "0           0  fit       34d   137.0    10.0       vacation   \n",
       "1           1  fit       34b   132.0    10.0          other   \n",
       "2           2  fit       NaN     NaN    10.0          party   \n",
       "3           3  fit       34c   135.0     8.0  formal affair   \n",
       "4           4  fit       34b   145.0    10.0        wedding   \n",
       "\n",
       "           body type category height  size    age  \n",
       "0          hourglass   romper  5' 8\"    14   28.0  \n",
       "1  straight & narrow     gown  5' 6\"    12   36.0  \n",
       "2                NaN   sheath  5' 4\"     4  116.0  \n",
       "3               pear    dress  5' 5\"     8   34.0  \n",
       "4           athletic     gown  5' 9\"    12   27.0  "
      ]
     },
     "execution_count": 9,
     "metadata": {},
     "output_type": "execute_result"
    }
   ],
   "source": [
    "#5.Check the column 'weight', Is there any presence of string data? If yes, remove the string data and convert to float. \n",
    "#(Hint: 'weight' has the suffix as lbs)\n",
    "df['weight']=df['weight'].str.replace('lbs','').astype(float)\n",
    "df.head()"
   ]
  },
  {
   "cell_type": "code",
   "execution_count": 10,
   "id": "9de09d95",
   "metadata": {},
   "outputs": [
    {
     "data": {
      "text/plain": [
       "array(['vacation', 'other', 'party', 'formal affair', 'wedding', 'date',\n",
       "       'everyday', 'work', nan, 'party: cocktail'], dtype=object)"
      ]
     },
     "execution_count": 10,
     "metadata": {},
     "output_type": "execute_result"
    }
   ],
   "source": [
    "#6.Check the unique categories for the column 'rented for' and group 'party: cocktail' category with 'party'\n",
    "df['rented for'].unique()\n",
    "\n",
    "#There are 10 unique categories in the 'rented for' column"
   ]
  },
  {
   "cell_type": "code",
   "execution_count": 11,
   "id": "6e62431c",
   "metadata": {},
   "outputs": [
    {
     "data": {
      "text/plain": [
       "wedding          57784\n",
       "formal affair    40408\n",
       "party            35627\n",
       "everyday         16822\n",
       "other            15388\n",
       "work             15042\n",
       "date              7388\n",
       "vacation          4075\n",
       "Name: rented for, dtype: int64"
      ]
     },
     "execution_count": 11,
     "metadata": {},
     "output_type": "execute_result"
    }
   ],
   "source": [
    "#Grouping the columns party: cocktail' category with 'party'\n",
    "\n",
    "df['rented for']=df['rented for'].replace({'party: cocktail':'party'})\n",
    "df['rented for'].value_counts()"
   ]
  },
  {
   "cell_type": "code",
   "execution_count": 12,
   "id": "74c42fa8",
   "metadata": {},
   "outputs": [
    {
     "data": {
      "text/plain": [
       "0         68.0\n",
       "1         66.0\n",
       "2         64.0\n",
       "3         65.0\n",
       "4         69.0\n",
       "          ... \n",
       "192539    69.0\n",
       "192540    61.0\n",
       "192541    68.0\n",
       "192542    66.0\n",
       "192543    66.0\n",
       "Name: height, Length: 192544, dtype: float64"
      ]
     },
     "execution_count": 12,
     "metadata": {},
     "output_type": "execute_result"
    }
   ],
   "source": [
    "#7.The column 'height' is in feet with a quotation mark,Convert to inches with float datatype.\n",
    "df['height']=df['height'].str.replace('\"','')\n",
    "df['height']=df['height'].str.replace(\"'\",'')\n",
    "df['height']=df['height'].str[:1].astype(float)*12 + df['height'].str[1:].astype(float)\n",
    "\n",
    "df['height']"
   ]
  },
  {
   "cell_type": "code",
   "execution_count": 13,
   "id": "145d851d",
   "metadata": {
    "scrolled": true
   },
   "outputs": [
    {
     "data": {
      "text/html": [
       "<div>\n",
       "<style scoped>\n",
       "    .dataframe tbody tr th:only-of-type {\n",
       "        vertical-align: middle;\n",
       "    }\n",
       "\n",
       "    .dataframe tbody tr th {\n",
       "        vertical-align: top;\n",
       "    }\n",
       "\n",
       "    .dataframe thead th {\n",
       "        text-align: right;\n",
       "    }\n",
       "</style>\n",
       "<table border=\"1\" class=\"dataframe\">\n",
       "  <thead>\n",
       "    <tr style=\"text-align: right;\">\n",
       "      <th></th>\n",
       "      <th>Unnamed: 0</th>\n",
       "      <th>fit</th>\n",
       "      <th>bust size</th>\n",
       "      <th>weight</th>\n",
       "      <th>rating</th>\n",
       "      <th>rented for</th>\n",
       "      <th>body type</th>\n",
       "      <th>category</th>\n",
       "      <th>height</th>\n",
       "      <th>size</th>\n",
       "      <th>age</th>\n",
       "    </tr>\n",
       "  </thead>\n",
       "  <tbody>\n",
       "    <tr>\n",
       "      <th>0</th>\n",
       "      <td>False</td>\n",
       "      <td>False</td>\n",
       "      <td>False</td>\n",
       "      <td>False</td>\n",
       "      <td>False</td>\n",
       "      <td>False</td>\n",
       "      <td>False</td>\n",
       "      <td>False</td>\n",
       "      <td>False</td>\n",
       "      <td>False</td>\n",
       "      <td>False</td>\n",
       "    </tr>\n",
       "    <tr>\n",
       "      <th>1</th>\n",
       "      <td>False</td>\n",
       "      <td>False</td>\n",
       "      <td>False</td>\n",
       "      <td>False</td>\n",
       "      <td>False</td>\n",
       "      <td>False</td>\n",
       "      <td>False</td>\n",
       "      <td>False</td>\n",
       "      <td>False</td>\n",
       "      <td>False</td>\n",
       "      <td>False</td>\n",
       "    </tr>\n",
       "    <tr>\n",
       "      <th>2</th>\n",
       "      <td>False</td>\n",
       "      <td>False</td>\n",
       "      <td>True</td>\n",
       "      <td>True</td>\n",
       "      <td>False</td>\n",
       "      <td>False</td>\n",
       "      <td>True</td>\n",
       "      <td>False</td>\n",
       "      <td>False</td>\n",
       "      <td>False</td>\n",
       "      <td>False</td>\n",
       "    </tr>\n",
       "    <tr>\n",
       "      <th>3</th>\n",
       "      <td>False</td>\n",
       "      <td>False</td>\n",
       "      <td>False</td>\n",
       "      <td>False</td>\n",
       "      <td>False</td>\n",
       "      <td>False</td>\n",
       "      <td>False</td>\n",
       "      <td>False</td>\n",
       "      <td>False</td>\n",
       "      <td>False</td>\n",
       "      <td>False</td>\n",
       "    </tr>\n",
       "    <tr>\n",
       "      <th>4</th>\n",
       "      <td>False</td>\n",
       "      <td>False</td>\n",
       "      <td>False</td>\n",
       "      <td>False</td>\n",
       "      <td>False</td>\n",
       "      <td>False</td>\n",
       "      <td>False</td>\n",
       "      <td>False</td>\n",
       "      <td>False</td>\n",
       "      <td>False</td>\n",
       "      <td>False</td>\n",
       "    </tr>\n",
       "    <tr>\n",
       "      <th>...</th>\n",
       "      <td>...</td>\n",
       "      <td>...</td>\n",
       "      <td>...</td>\n",
       "      <td>...</td>\n",
       "      <td>...</td>\n",
       "      <td>...</td>\n",
       "      <td>...</td>\n",
       "      <td>...</td>\n",
       "      <td>...</td>\n",
       "      <td>...</td>\n",
       "      <td>...</td>\n",
       "    </tr>\n",
       "    <tr>\n",
       "      <th>192539</th>\n",
       "      <td>False</td>\n",
       "      <td>False</td>\n",
       "      <td>False</td>\n",
       "      <td>False</td>\n",
       "      <td>False</td>\n",
       "      <td>False</td>\n",
       "      <td>False</td>\n",
       "      <td>False</td>\n",
       "      <td>False</td>\n",
       "      <td>False</td>\n",
       "      <td>False</td>\n",
       "    </tr>\n",
       "    <tr>\n",
       "      <th>192540</th>\n",
       "      <td>False</td>\n",
       "      <td>False</td>\n",
       "      <td>False</td>\n",
       "      <td>False</td>\n",
       "      <td>False</td>\n",
       "      <td>False</td>\n",
       "      <td>False</td>\n",
       "      <td>False</td>\n",
       "      <td>False</td>\n",
       "      <td>False</td>\n",
       "      <td>False</td>\n",
       "    </tr>\n",
       "    <tr>\n",
       "      <th>192541</th>\n",
       "      <td>False</td>\n",
       "      <td>False</td>\n",
       "      <td>False</td>\n",
       "      <td>False</td>\n",
       "      <td>False</td>\n",
       "      <td>False</td>\n",
       "      <td>False</td>\n",
       "      <td>False</td>\n",
       "      <td>False</td>\n",
       "      <td>False</td>\n",
       "      <td>False</td>\n",
       "    </tr>\n",
       "    <tr>\n",
       "      <th>192542</th>\n",
       "      <td>False</td>\n",
       "      <td>False</td>\n",
       "      <td>False</td>\n",
       "      <td>False</td>\n",
       "      <td>False</td>\n",
       "      <td>False</td>\n",
       "      <td>False</td>\n",
       "      <td>False</td>\n",
       "      <td>False</td>\n",
       "      <td>False</td>\n",
       "      <td>False</td>\n",
       "    </tr>\n",
       "    <tr>\n",
       "      <th>192543</th>\n",
       "      <td>False</td>\n",
       "      <td>False</td>\n",
       "      <td>False</td>\n",
       "      <td>False</td>\n",
       "      <td>False</td>\n",
       "      <td>False</td>\n",
       "      <td>False</td>\n",
       "      <td>False</td>\n",
       "      <td>False</td>\n",
       "      <td>False</td>\n",
       "      <td>False</td>\n",
       "    </tr>\n",
       "  </tbody>\n",
       "</table>\n",
       "<p>192544 rows × 11 columns</p>\n",
       "</div>"
      ],
      "text/plain": [
       "        Unnamed: 0    fit  bust size  weight  rating  rented for  body type  \\\n",
       "0            False  False      False   False   False       False      False   \n",
       "1            False  False      False   False   False       False      False   \n",
       "2            False  False       True    True   False       False       True   \n",
       "3            False  False      False   False   False       False      False   \n",
       "4            False  False      False   False   False       False      False   \n",
       "...            ...    ...        ...     ...     ...         ...        ...   \n",
       "192539       False  False      False   False   False       False      False   \n",
       "192540       False  False      False   False   False       False      False   \n",
       "192541       False  False      False   False   False       False      False   \n",
       "192542       False  False      False   False   False       False      False   \n",
       "192543       False  False      False   False   False       False      False   \n",
       "\n",
       "        category  height   size    age  \n",
       "0          False   False  False  False  \n",
       "1          False   False  False  False  \n",
       "2          False   False  False  False  \n",
       "3          False   False  False  False  \n",
       "4          False   False  False  False  \n",
       "...          ...     ...    ...    ...  \n",
       "192539     False   False  False  False  \n",
       "192540     False   False  False  False  \n",
       "192541     False   False  False  False  \n",
       "192542     False   False  False  False  \n",
       "192543     False   False  False  False  \n",
       "\n",
       "[192544 rows x 11 columns]"
      ]
     },
     "execution_count": 13,
     "metadata": {},
     "output_type": "execute_result"
    }
   ],
   "source": [
    "#8.Check for missing values in each column of the dataset? If it exists, impute them with appropriate methods.\n",
    "df.isnull()\n",
    "\n",
    "# There are missing values in these columns - bust size,weight,body type,age"
   ]
  },
  {
   "cell_type": "code",
   "execution_count": 14,
   "id": "a0373fff",
   "metadata": {},
   "outputs": [
    {
     "data": {
      "text/html": [
       "<div>\n",
       "<style scoped>\n",
       "    .dataframe tbody tr th:only-of-type {\n",
       "        vertical-align: middle;\n",
       "    }\n",
       "\n",
       "    .dataframe tbody tr th {\n",
       "        vertical-align: top;\n",
       "    }\n",
       "\n",
       "    .dataframe thead th {\n",
       "        text-align: right;\n",
       "    }\n",
       "</style>\n",
       "<table border=\"1\" class=\"dataframe\">\n",
       "  <thead>\n",
       "    <tr style=\"text-align: right;\">\n",
       "      <th></th>\n",
       "      <th>Unnamed: 0</th>\n",
       "      <th>fit</th>\n",
       "      <th>bust size</th>\n",
       "      <th>weight</th>\n",
       "      <th>rating</th>\n",
       "      <th>rented for</th>\n",
       "      <th>body type</th>\n",
       "      <th>category</th>\n",
       "      <th>height</th>\n",
       "      <th>size</th>\n",
       "      <th>age</th>\n",
       "    </tr>\n",
       "  </thead>\n",
       "  <tbody>\n",
       "    <tr>\n",
       "      <th>0</th>\n",
       "      <td>0</td>\n",
       "      <td>fit</td>\n",
       "      <td>34d</td>\n",
       "      <td>137.0</td>\n",
       "      <td>10.0</td>\n",
       "      <td>vacation</td>\n",
       "      <td>hourglass</td>\n",
       "      <td>romper</td>\n",
       "      <td>68.0</td>\n",
       "      <td>14</td>\n",
       "      <td>28.0</td>\n",
       "    </tr>\n",
       "    <tr>\n",
       "      <th>1</th>\n",
       "      <td>1</td>\n",
       "      <td>fit</td>\n",
       "      <td>34b</td>\n",
       "      <td>132.0</td>\n",
       "      <td>10.0</td>\n",
       "      <td>other</td>\n",
       "      <td>straight &amp; narrow</td>\n",
       "      <td>gown</td>\n",
       "      <td>66.0</td>\n",
       "      <td>12</td>\n",
       "      <td>36.0</td>\n",
       "    </tr>\n",
       "    <tr>\n",
       "      <th>3</th>\n",
       "      <td>3</td>\n",
       "      <td>fit</td>\n",
       "      <td>34c</td>\n",
       "      <td>135.0</td>\n",
       "      <td>8.0</td>\n",
       "      <td>formal affair</td>\n",
       "      <td>pear</td>\n",
       "      <td>dress</td>\n",
       "      <td>65.0</td>\n",
       "      <td>8</td>\n",
       "      <td>34.0</td>\n",
       "    </tr>\n",
       "    <tr>\n",
       "      <th>4</th>\n",
       "      <td>4</td>\n",
       "      <td>fit</td>\n",
       "      <td>34b</td>\n",
       "      <td>145.0</td>\n",
       "      <td>10.0</td>\n",
       "      <td>wedding</td>\n",
       "      <td>athletic</td>\n",
       "      <td>gown</td>\n",
       "      <td>69.0</td>\n",
       "      <td>12</td>\n",
       "      <td>27.0</td>\n",
       "    </tr>\n",
       "    <tr>\n",
       "      <th>5</th>\n",
       "      <td>5</td>\n",
       "      <td>fit</td>\n",
       "      <td>32b</td>\n",
       "      <td>138.0</td>\n",
       "      <td>8.0</td>\n",
       "      <td>date</td>\n",
       "      <td>athletic</td>\n",
       "      <td>dress</td>\n",
       "      <td>68.0</td>\n",
       "      <td>8</td>\n",
       "      <td>45.0</td>\n",
       "    </tr>\n",
       "  </tbody>\n",
       "</table>\n",
       "</div>"
      ],
      "text/plain": [
       "   Unnamed: 0  fit bust size  weight  rating     rented for  \\\n",
       "0           0  fit       34d   137.0    10.0       vacation   \n",
       "1           1  fit       34b   132.0    10.0          other   \n",
       "3           3  fit       34c   135.0     8.0  formal affair   \n",
       "4           4  fit       34b   145.0    10.0        wedding   \n",
       "5           5  fit       32b   138.0     8.0           date   \n",
       "\n",
       "           body type category  height  size   age  \n",
       "0          hourglass   romper    68.0    14  28.0  \n",
       "1  straight & narrow     gown    66.0    12  36.0  \n",
       "3               pear    dress    65.0     8  34.0  \n",
       "4           athletic     gown    69.0    12  27.0  \n",
       "5           athletic    dress    68.0     8  45.0  "
      ]
     },
     "execution_count": 14,
     "metadata": {},
     "output_type": "execute_result"
    }
   ],
   "source": [
    "#Dropping missing values ftom the columns ('bust size','body type')\n",
    "df=df.dropna( how='any',subset=['bust size','body type'])\n",
    "#Replacing the missing values with mean\n",
    "df['weight']=df['weight'].fillna(df['weight'].mean())\n",
    "df['age']=df['age'].fillna(df['age'].mean())\n",
    "\n",
    "df.head()\n",
    "\n"
   ]
  },
  {
   "cell_type": "code",
   "execution_count": 15,
   "id": "52b06ad8",
   "metadata": {},
   "outputs": [
    {
     "data": {
      "text/html": [
       "<div>\n",
       "<style scoped>\n",
       "    .dataframe tbody tr th:only-of-type {\n",
       "        vertical-align: middle;\n",
       "    }\n",
       "\n",
       "    .dataframe tbody tr th {\n",
       "        vertical-align: top;\n",
       "    }\n",
       "\n",
       "    .dataframe thead th {\n",
       "        text-align: right;\n",
       "    }\n",
       "</style>\n",
       "<table border=\"1\" class=\"dataframe\">\n",
       "  <thead>\n",
       "    <tr style=\"text-align: right;\">\n",
       "      <th></th>\n",
       "      <th>fit</th>\n",
       "      <th>bust size</th>\n",
       "      <th>rented for</th>\n",
       "      <th>body type</th>\n",
       "      <th>category</th>\n",
       "    </tr>\n",
       "  </thead>\n",
       "  <tbody>\n",
       "    <tr>\n",
       "      <th>count</th>\n",
       "      <td>165575</td>\n",
       "      <td>165575</td>\n",
       "      <td>165568</td>\n",
       "      <td>165575</td>\n",
       "      <td>165575</td>\n",
       "    </tr>\n",
       "    <tr>\n",
       "      <th>unique</th>\n",
       "      <td>3</td>\n",
       "      <td>104</td>\n",
       "      <td>8</td>\n",
       "      <td>7</td>\n",
       "      <td>68</td>\n",
       "    </tr>\n",
       "    <tr>\n",
       "      <th>top</th>\n",
       "      <td>fit</td>\n",
       "      <td>34b</td>\n",
       "      <td>wedding</td>\n",
       "      <td>hourglass</td>\n",
       "      <td>dress</td>\n",
       "    </tr>\n",
       "    <tr>\n",
       "      <th>freq</th>\n",
       "      <td>121977</td>\n",
       "      <td>25949</td>\n",
       "      <td>48794</td>\n",
       "      <td>51495</td>\n",
       "      <td>79847</td>\n",
       "    </tr>\n",
       "  </tbody>\n",
       "</table>\n",
       "</div>"
      ],
      "text/plain": [
       "           fit bust size rented for  body type category\n",
       "count   165575    165575     165568     165575   165575\n",
       "unique       3       104          8          7       68\n",
       "top        fit       34b    wedding  hourglass    dress\n",
       "freq    121977     25949      48794      51495    79847"
      ]
     },
     "execution_count": 15,
     "metadata": {},
     "output_type": "execute_result"
    }
   ],
   "source": [
    "#9Check the statistical summary for the numerical and categorical columns and write your findings.\n",
    "df.describe()\n",
    "\n",
    "##The above function gives the insights for all numerical records present in the dataframe,\n",
    "#eg- Rating \n",
    "#count-There are 165507 records in total\n",
    "#mean-Average rating is 9\n",
    "#min-The minimum Monthly charges is 2\n",
    "#max-The maximum Monthly charges is 10\n",
    "#Standard deviation-1\n",
    "#25%,50%,75% represents the 1st,2nd and 3rd quartile respectively\n",
    "\n",
    "df.describe(include='object')\n",
    "#In the categorical summary ,\n",
    "#eg- bust size-\n",
    "#there are 108 unique categories in bust size\n",
    "#top category in bust size is 34b\n",
    "#frequency of bust size is 25949"
   ]
  },
  {
   "cell_type": "code",
   "execution_count": 16,
   "id": "9b8ae1cc",
   "metadata": {},
   "outputs": [
    {
     "data": {
      "text/plain": [
       "<AxesSubplot:xlabel='age'>"
      ]
     },
     "execution_count": 16,
     "metadata": {},
     "output_type": "execute_result"
    },
    {
     "data": {
      "image/png": "[encoded data removed]",
      "text/plain": [
       "<Figure size 432x288 with 1 Axes>"
      ]
     },
     "metadata": {
      "needs_background": "light"
     },
     "output_type": "display_data"
    }
   ],
   "source": [
    "#10.Are there outliers present in the column age? If yes treat them with appropriate method\n",
    "sns.boxplot(df['age'])\n",
    "\n",
    "#This boxplot shows the presence of outliers above 50 years of age"
   ]
  },
  {
   "cell_type": "code",
   "execution_count": 17,
   "id": "f787cdb1",
   "metadata": {},
   "outputs": [],
   "source": [
    "#Removing outliers by using drop\n",
    "df.drop(df[df['age']>50].index,inplace=True)\n"
   ]
  },
  {
   "cell_type": "code",
   "execution_count": 18,
   "id": "3e848a99",
   "metadata": {},
   "outputs": [
    {
     "data": {
      "text/plain": [
       "<AxesSubplot:xlabel='rented for', ylabel='count'>"
      ]
     },
     "execution_count": 18,
     "metadata": {},
     "output_type": "execute_result"
    },
    {
     "data": {
      "image/png": "[encoded data removed]",
      "text/plain": [
       "<Figure size 720x576 with 1 Axes>"
      ]
     },
     "metadata": {},
     "output_type": "display_data"
    }
   ],
   "source": [
    "#11.Check the distribution of the different categories in the column 'rented for' using appropriate plot.\n",
    "sns.set(rc={\"figure.figsize\":(10, 8)})\n",
    "sns.countplot( x ='rented for',data=df)\n",
    "\n",
    "#The countplot shows number of people who have rented clothing for each of the categories(8 categories)\n",
    "#Maximum number of people have rented for wedding,few people have rented for vacation"
   ]
  },
  {
   "cell_type": "markdown",
   "id": "6ac2918d",
   "metadata": {},
   "source": [
    "# 3. Data Preparation for model building:"
   ]
  },
  {
   "cell_type": "code",
   "execution_count": 22,
   "id": "ca9b5fab",
   "metadata": {},
   "outputs": [],
   "source": [
    "#12.Encode the categorical variables in the dataset.\n",
    "df_categorical=df[['fit','bust size','rented for','body type','category','height']]\n",
    "\n",
    "#Coverting all categorical variables into numerical type\n",
    "from sklearn.preprocessing import LabelEncoder\n",
    "le = LabelEncoder()\n",
    "for x in df_categorical:\n",
    "    df[x] = le.fit_transform(df[x].astype(str))\n",
    "    \n"
   ]
  },
  {
   "cell_type": "code",
   "execution_count": 27,
   "id": "df7ede6f",
   "metadata": {},
   "outputs": [],
   "source": [
    "#13.Standardize the data, so that the values are within a particular range using standard scaler\n",
    "from sklearn.preprocessing import StandardScaler\n",
    "\n",
    "ss=StandardScaler()\n",
    "df.iloc[:,:] = ss.fit_transform(df.iloc[:,:])\n"
   ]
  },
  {
   "cell_type": "markdown",
   "id": "1cff8260",
   "metadata": {},
   "source": [
    "# 4. Principal Component Analysis and Clustering:"
   ]
  },
  {
   "cell_type": "code",
   "execution_count": 28,
   "id": "ab5d886b",
   "metadata": {},
   "outputs": [
    {
     "ename": "ValueError",
     "evalue": "cannot insert level_0, already exists",
     "output_type": "error",
     "traceback": [
      "\u001b[0;31m---------------------------------------------------------------------------\u001b[0m",
      "\u001b[0;31mValueError\u001b[0m                                Traceback (most recent call last)",
      "\u001b[0;32m/var/folders/0t/xrxysysd5yvf3gv0_gm3860m0000gn/T/ipykernel_47050/918990709.py\u001b[0m in \u001b[0;36m<module>\u001b[0;34m\u001b[0m\n\u001b[1;32m      4\u001b[0m \u001b[0mdf\u001b[0m \u001b[0;34m=\u001b[0m \u001b[0mdf\u001b[0m\u001b[0;34m.\u001b[0m\u001b[0mreplace\u001b[0m\u001b[0;34m(\u001b[0m\u001b[0;34m[\u001b[0m\u001b[0mnp\u001b[0m\u001b[0;34m.\u001b[0m\u001b[0minf\u001b[0m\u001b[0;34m,\u001b[0m \u001b[0;34m-\u001b[0m\u001b[0mnp\u001b[0m\u001b[0;34m.\u001b[0m\u001b[0minf\u001b[0m\u001b[0;34m]\u001b[0m\u001b[0;34m,\u001b[0m \u001b[0mnp\u001b[0m\u001b[0;34m.\u001b[0m\u001b[0mnan\u001b[0m\u001b[0;34m)\u001b[0m\u001b[0;34m\u001b[0m\u001b[0;34m\u001b[0m\u001b[0m\n\u001b[1;32m      5\u001b[0m \u001b[0mdf\u001b[0m \u001b[0;34m=\u001b[0m \u001b[0mdf\u001b[0m\u001b[0;34m.\u001b[0m\u001b[0mdropna\u001b[0m\u001b[0;34m(\u001b[0m\u001b[0;34m)\u001b[0m\u001b[0;34m\u001b[0m\u001b[0;34m\u001b[0m\u001b[0m\n\u001b[0;32m----> 6\u001b[0;31m \u001b[0mdf\u001b[0m \u001b[0;34m=\u001b[0m \u001b[0mdf\u001b[0m\u001b[0;34m.\u001b[0m\u001b[0mreset_index\u001b[0m\u001b[0;34m(\u001b[0m\u001b[0;34m)\u001b[0m\u001b[0;34m\u001b[0m\u001b[0;34m\u001b[0m\u001b[0m\n\u001b[0m\u001b[1;32m      7\u001b[0m \u001b[0mpca_df\u001b[0m\u001b[0;34m=\u001b[0m\u001b[0mdf\u001b[0m\u001b[0;34m.\u001b[0m\u001b[0mcopy\u001b[0m\u001b[0;34m(\u001b[0m\u001b[0;34m)\u001b[0m\u001b[0;34m\u001b[0m\u001b[0;34m\u001b[0m\u001b[0m\n\u001b[1;32m      8\u001b[0m \u001b[0;34m\u001b[0m\u001b[0m\n",
      "\u001b[0;32m~/opt/anaconda3/lib/python3.9/site-packages/pandas/util/_decorators.py\u001b[0m in \u001b[0;36mwrapper\u001b[0;34m(*args, **kwargs)\u001b[0m\n\u001b[1;32m    309\u001b[0m                     \u001b[0mstacklevel\u001b[0m\u001b[0;34m=\u001b[0m\u001b[0mstacklevel\u001b[0m\u001b[0;34m,\u001b[0m\u001b[0;34m\u001b[0m\u001b[0;34m\u001b[0m\u001b[0m\n\u001b[1;32m    310\u001b[0m                 )\n\u001b[0;32m--> 311\u001b[0;31m             \u001b[0;32mreturn\u001b[0m \u001b[0mfunc\u001b[0m\u001b[0;34m(\u001b[0m\u001b[0;34m*\u001b[0m\u001b[0margs\u001b[0m\u001b[0;34m,\u001b[0m \u001b[0;34m**\u001b[0m\u001b[0mkwargs\u001b[0m\u001b[0;34m)\u001b[0m\u001b[0;34m\u001b[0m\u001b[0;34m\u001b[0m\u001b[0m\n\u001b[0m\u001b[1;32m    312\u001b[0m \u001b[0;34m\u001b[0m\u001b[0m\n\u001b[1;32m    313\u001b[0m         \u001b[0;32mreturn\u001b[0m \u001b[0mwrapper\u001b[0m\u001b[0;34m\u001b[0m\u001b[0;34m\u001b[0m\u001b[0m\n",
      "\u001b[0;32m~/opt/anaconda3/lib/python3.9/site-packages/pandas/core/frame.py\u001b[0m in \u001b[0;36mreset_index\u001b[0;34m(self, level, drop, inplace, col_level, col_fill)\u001b[0m\n\u001b[1;32m   5797\u001b[0m                     )\n\u001b[1;32m   5798\u001b[0m \u001b[0;34m\u001b[0m\u001b[0m\n\u001b[0;32m-> 5799\u001b[0;31m                 \u001b[0mnew_obj\u001b[0m\u001b[0;34m.\u001b[0m\u001b[0minsert\u001b[0m\u001b[0;34m(\u001b[0m\u001b[0;36m0\u001b[0m\u001b[0;34m,\u001b[0m \u001b[0mname\u001b[0m\u001b[0;34m,\u001b[0m \u001b[0mlevel_values\u001b[0m\u001b[0;34m)\u001b[0m\u001b[0;34m\u001b[0m\u001b[0;34m\u001b[0m\u001b[0m\n\u001b[0m\u001b[1;32m   5800\u001b[0m \u001b[0;34m\u001b[0m\u001b[0m\n\u001b[1;32m   5801\u001b[0m         \u001b[0mnew_obj\u001b[0m\u001b[0;34m.\u001b[0m\u001b[0mindex\u001b[0m \u001b[0;34m=\u001b[0m \u001b[0mnew_index\u001b[0m\u001b[0;34m\u001b[0m\u001b[0;34m\u001b[0m\u001b[0m\n",
      "\u001b[0;32m~/opt/anaconda3/lib/python3.9/site-packages/pandas/core/frame.py\u001b[0m in \u001b[0;36minsert\u001b[0;34m(self, loc, column, value, allow_duplicates)\u001b[0m\n\u001b[1;32m   4412\u001b[0m         \u001b[0;32mif\u001b[0m \u001b[0;32mnot\u001b[0m \u001b[0mallow_duplicates\u001b[0m \u001b[0;32mand\u001b[0m \u001b[0mcolumn\u001b[0m \u001b[0;32min\u001b[0m \u001b[0mself\u001b[0m\u001b[0;34m.\u001b[0m\u001b[0mcolumns\u001b[0m\u001b[0;34m:\u001b[0m\u001b[0;34m\u001b[0m\u001b[0;34m\u001b[0m\u001b[0m\n\u001b[1;32m   4413\u001b[0m             \u001b[0;31m# Should this be a different kind of error??\u001b[0m\u001b[0;34m\u001b[0m\u001b[0;34m\u001b[0m\u001b[0m\n\u001b[0;32m-> 4414\u001b[0;31m             \u001b[0;32mraise\u001b[0m \u001b[0mValueError\u001b[0m\u001b[0;34m(\u001b[0m\u001b[0;34mf\"cannot insert {column}, already exists\"\u001b[0m\u001b[0;34m)\u001b[0m\u001b[0;34m\u001b[0m\u001b[0;34m\u001b[0m\u001b[0m\n\u001b[0m\u001b[1;32m   4415\u001b[0m         \u001b[0;32mif\u001b[0m \u001b[0;32mnot\u001b[0m \u001b[0misinstance\u001b[0m\u001b[0;34m(\u001b[0m\u001b[0mloc\u001b[0m\u001b[0;34m,\u001b[0m \u001b[0mint\u001b[0m\u001b[0;34m)\u001b[0m\u001b[0;34m:\u001b[0m\u001b[0;34m\u001b[0m\u001b[0;34m\u001b[0m\u001b[0m\n\u001b[1;32m   4416\u001b[0m             \u001b[0;32mraise\u001b[0m \u001b[0mTypeError\u001b[0m\u001b[0;34m(\u001b[0m\u001b[0;34m\"loc must be int\"\u001b[0m\u001b[0;34m)\u001b[0m\u001b[0;34m\u001b[0m\u001b[0;34m\u001b[0m\u001b[0m\n",
      "\u001b[0;31mValueError\u001b[0m: cannot insert level_0, already exists"
     ]
    }
   ],
   "source": [
    "#14. Apply PCA on the above dataset and determine the number of PCA components to be used so that 90-95% of the variance in data\n",
    "#is explained by the same.\n",
    "\n",
    "df = df.replace([np.inf, -np.inf], np.nan)\n",
    "df = df.dropna()\n",
    "df = df.reset_index()\n",
    "pca_df=df.copy()\n",
    "\n",
    "\n",
    "X = pca_df.drop('rented for',axis=1)\n",
    "y = pca_df['rented for']\n",
    "\n",
    "### split the datatset into train and test\n",
    "X_train, X_test, y_train, y_test = train_test_split(X, y, test_size = 0.3, random_state = 42)\n",
    "\n",
    "## scale the independent features using standard scalar\n",
    "\n",
    "X_train = ss.fit_transform(X_train)\n",
    "X_test = ss.transform(X_test)\n"
   ]
  },
  {
   "cell_type": "code",
   "execution_count": 29,
   "id": "2a00b3a9",
   "metadata": {},
   "outputs": [
    {
     "name": "stdout",
     "output_type": "stream",
     "text": [
      "Covariance matrix \n",
      " [[ 1.00000905e+00  1.00000822e+00  1.00000822e+00 -2.03281370e-03\n",
      "   1.64249192e-03  3.02274183e-03 -7.72588735e-03 -2.84483903e-03\n",
      "  -2.46214879e-03  1.29185310e-03  3.49715748e-03 -6.73539970e-03]\n",
      " [ 1.00000822e+00  1.00000905e+00  1.00000905e+00 -2.03262421e-03\n",
      "   1.64646956e-03  3.01991879e-03 -7.72701158e-03 -2.84167819e-03\n",
      "  -2.46404732e-03  1.29162521e-03  3.49878362e-03 -6.73511553e-03]\n",
      " [ 1.00000822e+00  1.00000905e+00  1.00000905e+00 -2.03262421e-03\n",
      "   1.64646956e-03  3.01991879e-03 -7.72701158e-03 -2.84167819e-03\n",
      "  -2.46404732e-03  1.29162521e-03  3.49878362e-03 -6.73511553e-03]\n",
      " [-2.03281370e-03 -2.03262421e-03 -2.03262421e-03  1.00000905e+00\n",
      "   5.44331718e-03  1.22437050e-02 -2.45459546e-01 -9.34728346e-03\n",
      "   1.02420385e-02 -2.57359449e-03  6.45546688e-02 -4.49298053e-04]\n",
      " [ 1.64249192e-03  1.64646956e-03  1.64646956e-03  5.44331718e-03\n",
      "   1.00000905e+00  4.90874254e-01 -2.57919521e-02 -1.55674892e-01\n",
      "  -1.58316150e-02  8.14784396e-02  5.70270448e-01  1.15262890e-01]\n",
      " [ 3.02274183e-03  3.01991879e-03  3.01991879e-03  1.22437050e-02\n",
      "   4.90874254e-01  1.00000905e+00 -2.29492018e-02 -2.44767499e-01\n",
      "  -2.39469331e-02  2.85037204e-01  7.55494528e-01  6.55536253e-02]\n",
      " [-7.72588735e-03 -7.72701158e-03 -7.72701158e-03 -2.45459546e-01\n",
      "  -2.57919521e-02 -2.29492018e-02  1.00000905e+00  4.43281573e-03\n",
      "  -4.10707609e-02 -4.30722883e-03 -3.88758011e-02 -4.67090928e-02]\n",
      " [-2.84483903e-03 -2.84167819e-03 -2.84167819e-03 -9.34728346e-03\n",
      "  -1.55674892e-01 -2.44767499e-01  4.43281573e-03  1.00000905e+00\n",
      "  -3.86334194e-03 -6.71610568e-02 -2.36344815e-01 -4.77131030e-02]\n",
      " [-2.46214879e-03 -2.46404732e-03 -2.46404732e-03  1.02420385e-02\n",
      "  -1.58316150e-02 -2.39469331e-02 -4.10707609e-02 -3.86334194e-03\n",
      "   1.00000905e+00 -6.61371699e-03 -1.70785187e-02  3.61834543e-02]\n",
      " [ 1.29185310e-03  1.29162521e-03  1.29162521e-03 -2.57359449e-03\n",
      "   8.14784396e-02  2.85037204e-01 -4.30722883e-03 -6.71610568e-02\n",
      "  -6.61371699e-03  1.00000905e+00  1.90512776e-01 -9.76374439e-03]\n",
      " [ 3.49715748e-03  3.49878362e-03  3.49878362e-03  6.45546688e-02\n",
      "   5.70270448e-01  7.55494528e-01 -3.88758011e-02 -2.36344815e-01\n",
      "  -1.70785187e-02  1.90512776e-01  1.00000905e+00  1.32482323e-01]\n",
      " [-6.73539970e-03 -6.73511553e-03 -6.73511553e-03 -4.49298053e-04\n",
      "   1.15262890e-01  6.55536253e-02 -4.67090928e-02 -4.77131030e-02\n",
      "   3.61834543e-02 -9.76374439e-03  1.32482323e-01  1.00000905e+00]]\n",
      "Eigen vectors: \n",
      " [[ 5.77260250e-01 -8.69293146e-03 -3.59207724e-04 -1.34779706e-03\n",
      "   2.59654495e-04 -3.56823109e-03  3.26608000e-03  5.42232444e-04\n",
      "   1.58725838e-03  1.62383588e-04  8.16496653e-01  2.42760900e-10]\n",
      " [ 5.77260413e-01 -8.69273302e-03 -3.48082056e-04 -1.34714713e-03\n",
      "   2.66424061e-04 -3.56722490e-03  3.26588256e-03  5.39191947e-04\n",
      "   1.59011340e-03  1.65193064e-04 -4.08248218e-01  7.07106781e-01]\n",
      " [ 5.77260413e-01 -8.69273302e-03 -3.48082056e-04 -1.34714713e-03\n",
      "   2.66424061e-04 -3.56722490e-03  3.26588256e-03  5.39191947e-04\n",
      "   1.59011340e-03  1.65193064e-04 -4.08248218e-01 -7.07106781e-01]\n",
      " [-5.49112914e-04  4.12706955e-02 -5.14310742e-02  6.77974154e-01\n",
      "   5.48568273e-02 -6.83667539e-01 -2.29330946e-01 -1.79210960e-02\n",
      "  -8.54379072e-02  7.33366212e-02 -3.08737278e-07 -1.53291037e-16]\n",
      " [ 6.53646908e-03  4.72153982e-01 -1.18168575e-01 -2.62121786e-02\n",
      "   7.71874180e-01  5.74413846e-02  1.24811409e-01 -3.47762149e-01\n",
      "   5.41376564e-03  1.63529906e-01  4.53456460e-06  1.06793192e-15]\n",
      " [ 8.73266188e-03  5.60019778e-01 -6.65160493e-01 -5.93851052e-02\n",
      "  -4.66077448e-01  1.22109794e-02 -9.50816634e-02 -9.99878568e-02\n",
      "   3.33783656e-02 -5.29812308e-02 -8.32828296e-06 -2.57328810e-15]\n",
      " [-6.85162610e-03 -4.50488013e-02 -6.13742907e-03 -6.96423372e-01\n",
      "   1.99342209e-02 -7.06824043e-01  7.10335588e-02 -6.02722408e-02\n",
      "  -6.37556303e-02 -1.18147924e-02 -9.41583666e-07 -2.14934422e-16]\n",
      " [-5.12998550e-03 -2.56795475e-01 -8.45103374e-03  3.14115993e-02\n",
      "  -1.11999289e-01 -4.20902585e-02 -6.92837542e-02 -5.94411603e-01\n",
      "   7.47141231e-01  4.80709614e-02  2.58274728e-06  7.48349176e-16]\n",
      " [-2.30893400e-03 -1.69883119e-02 -3.56471540e-03  1.66642908e-01\n",
      "  -3.57936051e-03 -6.72441430e-02  4.98755781e-01 -2.52651995e-01\n",
      "  -1.20497537e-01 -8.00174292e-01 -1.59165666e-06 -4.15662335e-16]\n",
      " [ 3.70226484e-03  2.25985848e-01  7.64073799e-02 -8.59778828e-02\n",
      "   2.52142295e-01 -3.96736805e-02 -4.25821686e-01  4.58682614e-01\n",
      "   4.75514550e-01 -5.02701434e-01  9.31914028e-07  3.39222632e-16]\n",
      " [ 8.99608525e-03  5.71489038e-01  7.29658047e-01  2.26546689e-03\n",
      "  -3.25963917e-01 -4.02398684e-02  1.26688327e-02 -1.73615631e-01\n",
      "   1.33057708e-02  5.06132353e-02  5.46457915e-06  1.89551738e-15]\n",
      " [-4.34972768e-03  1.24848961e-01 -5.09061025e-02  1.22362344e-01\n",
      "  -3.45013609e-02 -1.41509902e-01  6.94743813e-01  4.55432564e-01\n",
      "   4.34112632e-01  2.58984329e-01 -3.21387239e-07 -2.74120387e-16]]\n",
      "\n",
      "\n",
      "Eigen values: \n",
      " [ 3.00033269e+00  2.43004090e+00  2.28239715e-01  1.25342269e+00\n",
      "  5.06628557e-01  7.49516879e-01  1.04615667e+00  8.85642395e-01\n",
      "  9.14565461e-01  9.85561577e-01  1.10582813e-06 -1.01444139e-16]\n"
     ]
    }
   ],
   "source": [
    "# Calculating covarinace matrix along with eigen values and eigen vectors\n",
    "\n",
    "cov_matrix = np.cov(X_train.T)\n",
    "print('Covariance matrix','\\n',cov_matrix)\n",
    "eig_vals, eig_vecs = np.linalg.eig(cov_matrix)\n",
    "print('Eigen vectors:','\\n',eig_vecs)\n",
    "print('\\n')\n",
    "print('Eigen values:','\\n',eig_vals)"
   ]
  },
  {
   "cell_type": "code",
   "execution_count": 30,
   "id": "2fdd62a7",
   "metadata": {},
   "outputs": [
    {
     "name": "stdout",
     "output_type": "stream",
     "text": [
      "Variance Explained:  [25.002546076251626, 20.25015747871879, 10.445094539141161, 8.71789331868852, 8.212938782533486, 7.621309841409218, 7.38028647521584, 6.2459174460318705, 4.221866420899363, 1.9019804059591285, 9.21515099130546e-06, -8.453601700943697e-16]\n",
      "Cummulative Variance Explained:  [ 25.00254608  45.25270355  55.69779809  64.41569141  72.6286302\n",
      "  80.24994004  87.63022651  93.87614396  98.09801038  99.99999078\n",
      " 100.         100.        ]\n"
     ]
    }
   ],
   "source": [
    "#Calculating the variance and cumulative variance\n",
    "total = sum(eig_vals)\n",
    "var_exp = [ (i/total)*100  for i in sorted(eig_vals,reverse=True)]\n",
    "cum_var_exp = np.cumsum(var_exp)\n",
    "print('Variance Explained: ',var_exp)\n",
    "print('Cummulative Variance Explained: ',cum_var_exp)"
   ]
  },
  {
   "cell_type": "code",
   "execution_count": 31,
   "id": "074be94e",
   "metadata": {},
   "outputs": [
    {
     "data": {
      "image/png": "[encoded data removed]",
      "text/plain": [
       "<Figure size 720x576 with 1 Axes>"
      ]
     },
     "metadata": {},
     "output_type": "display_data"
    }
   ],
   "source": [
    "#Plotting bar graph Individual explained variance against Cumulative explained variance.\n",
    "import matplotlib.pyplot as plt\n",
    "cum_sum_exp = np.cumsum(var_exp)\n",
    "plt.bar(range(0,len(var_exp)), var_exp, alpha=0.5, align='center', label='Individual explained variance')\n",
    "plt.step(range(0,len(cum_sum_exp)), cum_sum_exp, where='mid',label='Cumulative explained variance')\n",
    "plt.ylabel('Explained variance ratio')\n",
    "plt.xlabel('Principal component index')\n",
    "plt.legend(loc='best')\n",
    "plt.tight_layout()\n",
    "plt.show()"
   ]
  },
  {
   "cell_type": "code",
   "execution_count": 32,
   "id": "27720a4c",
   "metadata": {},
   "outputs": [
    {
     "data": {
      "text/plain": [
       "PCA(n_components=7)"
      ]
     },
     "execution_count": 32,
     "metadata": {},
     "output_type": "execute_result"
    }
   ],
   "source": [
    "#First 7 principal components explain 99% of the variance in the data. \n",
    "# so, we can choose the optimal number of principal components as 7.\n",
    "from sklearn.decomposition import PCA\n",
    "pca=PCA(n_components = 7)\n",
    "pca.fit(pca_df)"
   ]
  },
  {
   "cell_type": "code",
   "execution_count": 33,
   "id": "aee6c3eb",
   "metadata": {},
   "outputs": [
    {
     "data": {
      "text/html": [
       "<div>\n",
       "<style scoped>\n",
       "    .dataframe tbody tr th:only-of-type {\n",
       "        vertical-align: middle;\n",
       "    }\n",
       "\n",
       "    .dataframe tbody tr th {\n",
       "        vertical-align: top;\n",
       "    }\n",
       "\n",
       "    .dataframe thead th {\n",
       "        text-align: right;\n",
       "    }\n",
       "</style>\n",
       "<table border=\"1\" class=\"dataframe\">\n",
       "  <thead>\n",
       "    <tr style=\"text-align: right;\">\n",
       "      <th></th>\n",
       "      <th>PC1</th>\n",
       "      <th>PC2</th>\n",
       "      <th>PC3</th>\n",
       "      <th>PC4</th>\n",
       "      <th>PC5</th>\n",
       "      <th>PC6</th>\n",
       "      <th>PC7</th>\n",
       "    </tr>\n",
       "  </thead>\n",
       "  <tbody>\n",
       "    <tr>\n",
       "      <th>0</th>\n",
       "      <td>-78896.500038</td>\n",
       "      <td>-0.239012</td>\n",
       "      <td>-0.610638</td>\n",
       "      <td>0.575596</td>\n",
       "      <td>1.857392</td>\n",
       "      <td>1.294318</td>\n",
       "      <td>0.117915</td>\n",
       "    </tr>\n",
       "    <tr>\n",
       "      <th>1</th>\n",
       "      <td>-78895.500038</td>\n",
       "      <td>-0.791527</td>\n",
       "      <td>-1.054111</td>\n",
       "      <td>-1.219905</td>\n",
       "      <td>-1.309640</td>\n",
       "      <td>1.374542</td>\n",
       "      <td>-1.480947</td>\n",
       "    </tr>\n",
       "    <tr>\n",
       "      <th>2</th>\n",
       "      <td>-78894.500038</td>\n",
       "      <td>-1.131440</td>\n",
       "      <td>0.114254</td>\n",
       "      <td>-0.370812</td>\n",
       "      <td>-1.401214</td>\n",
       "      <td>0.070151</td>\n",
       "      <td>0.055103</td>\n",
       "    </tr>\n",
       "    <tr>\n",
       "      <th>3</th>\n",
       "      <td>-78893.500038</td>\n",
       "      <td>0.232844</td>\n",
       "      <td>-1.080725</td>\n",
       "      <td>-0.690969</td>\n",
       "      <td>1.728545</td>\n",
       "      <td>-0.579197</td>\n",
       "      <td>0.174330</td>\n",
       "    </tr>\n",
       "    <tr>\n",
       "      <th>4</th>\n",
       "      <td>-78892.500038</td>\n",
       "      <td>0.419989</td>\n",
       "      <td>0.128653</td>\n",
       "      <td>0.436361</td>\n",
       "      <td>-0.740869</td>\n",
       "      <td>0.309837</td>\n",
       "      <td>-0.669467</td>\n",
       "    </tr>\n",
       "  </tbody>\n",
       "</table>\n",
       "</div>"
      ],
      "text/plain": [
       "            PC1       PC2       PC3       PC4       PC5       PC6       PC7\n",
       "0 -78896.500038 -0.239012 -0.610638  0.575596  1.857392  1.294318  0.117915\n",
       "1 -78895.500038 -0.791527 -1.054111 -1.219905 -1.309640  1.374542 -1.480947\n",
       "2 -78894.500038 -1.131440  0.114254 -0.370812 -1.401214  0.070151  0.055103\n",
       "3 -78893.500038  0.232844 -1.080725 -0.690969  1.728545 -0.579197  0.174330\n",
       "4 -78892.500038  0.419989  0.128653  0.436361 -0.740869  0.309837 -0.669467"
      ]
     },
     "execution_count": 33,
     "metadata": {},
     "output_type": "execute_result"
    }
   ],
   "source": [
    "pca_df = pca.transform(pca_df)\n",
    "pca_df = pd.DataFrame(pca_df,columns=['PC1','PC2','PC3','PC4','PC5','PC6','PC7'])\n",
    "pca_df.head()\n"
   ]
  },
  {
   "cell_type": "code",
   "execution_count": 34,
   "id": "9e7cdf32",
   "metadata": {},
   "outputs": [],
   "source": [
    "#15.Apply K-means clustering and segment the data. (You may use original data or PCA transformed data) \n",
    "#a. Find the optimal K Value using elbow plot for Kmeans clustering.\n",
    "df_scaled=df.sample(20000)\n",
    "cluster_range = range(2,15)\n",
    "cluster_errors = []\n",
    "\n",
    "for num_clusters in cluster_range:\n",
    "   \n",
    "    clusters = KMeans(num_clusters, n_init=10)\n",
    "    clusters.fit(df_scaled)\n",
    "    \n",
    "    labels = clusters.labels_\n",
    "    centroids = clusters.cluster_centers_\n",
    "    \n",
    "    cluster_errors.append(clusters.inertia_)\n",
    "\n",
    "clusters_df = pd.DataFrame({'num_clusters':cluster_range, \n",
    "                           'cluster_errors':cluster_errors})\n",
    "\n"
   ]
  },
  {
   "cell_type": "code",
   "execution_count": 35,
   "id": "e7b13b5e",
   "metadata": {
    "scrolled": false
   },
   "outputs": [
    {
     "data": {
      "image/png": "[encoded data removed]",
      "text/plain": [
       "<Figure size 864x432 with 1 Axes>"
      ]
     },
     "metadata": {},
     "output_type": "display_data"
    }
   ],
   "source": [
    "#b. Build a Kmeans clustering model using the obtained optimal K value from the elbow plot.\n",
    "plt.figure(figsize=[12,6])\n",
    "plt.plot(clusters_df['num_clusters'],clusters_df['cluster_errors'],marker='o',color='b')\n",
    "plt.show()"
   ]
  },
  {
   "cell_type": "code",
   "execution_count": 36,
   "id": "2db81adb",
   "metadata": {},
   "outputs": [
    {
     "data": {
      "text/plain": [
       "KMeans(n_clusters=3, n_init=15, random_state=2345)"
      ]
     },
     "execution_count": 36,
     "metadata": {},
     "output_type": "execute_result"
    }
   ],
   "source": [
    "## Fit the KMeans clustering model using the obtained optimal K=3 since there is max drop at n=3\n",
    "kmeans = KMeans(n_clusters=3, n_init=15, random_state=2345)\n",
    "kmeans.fit(df_scaled)"
   ]
  },
  {
   "cell_type": "code",
   "execution_count": 37,
   "id": "8ba6c87b",
   "metadata": {},
   "outputs": [
    {
     "data": {
      "text/html": [
       "<div>\n",
       "<style scoped>\n",
       "    .dataframe tbody tr th:only-of-type {\n",
       "        vertical-align: middle;\n",
       "    }\n",
       "\n",
       "    .dataframe tbody tr th {\n",
       "        vertical-align: top;\n",
       "    }\n",
       "\n",
       "    .dataframe thead th {\n",
       "        text-align: right;\n",
       "    }\n",
       "</style>\n",
       "<table border=\"1\" class=\"dataframe\">\n",
       "  <thead>\n",
       "    <tr style=\"text-align: right;\">\n",
       "      <th></th>\n",
       "      <th>Labels</th>\n",
       "    </tr>\n",
       "  </thead>\n",
       "  <tbody>\n",
       "    <tr>\n",
       "      <th>0</th>\n",
       "      <td>2</td>\n",
       "    </tr>\n",
       "    <tr>\n",
       "      <th>1</th>\n",
       "      <td>2</td>\n",
       "    </tr>\n",
       "    <tr>\n",
       "      <th>2</th>\n",
       "      <td>2</td>\n",
       "    </tr>\n",
       "    <tr>\n",
       "      <th>3</th>\n",
       "      <td>2</td>\n",
       "    </tr>\n",
       "    <tr>\n",
       "      <th>4</th>\n",
       "      <td>1</td>\n",
       "    </tr>\n",
       "  </tbody>\n",
       "</table>\n",
       "</div>"
      ],
      "text/plain": [
       "   Labels\n",
       "0       2\n",
       "1       2\n",
       "2       2\n",
       "3       2\n",
       "4       1"
      ]
     },
     "execution_count": 37,
     "metadata": {},
     "output_type": "execute_result"
    }
   ],
   "source": [
    "### Creating a dataframe of the labels\n",
    "df_labels = pd.DataFrame(kmeans.labels_, columns=list(['Labels']))\n",
    "\n",
    "df_labels.head(5)"
   ]
  },
  {
   "cell_type": "code",
   "execution_count": 38,
   "id": "119a31a1",
   "metadata": {},
   "outputs": [],
   "source": [
    "df_labels['Labels'] = df_labels['Labels'].astype('category')"
   ]
  },
  {
   "cell_type": "code",
   "execution_count": 39,
   "id": "e45a545e",
   "metadata": {},
   "outputs": [
    {
     "data": {
      "text/html": [
       "<div>\n",
       "<style scoped>\n",
       "    .dataframe tbody tr th:only-of-type {\n",
       "        vertical-align: middle;\n",
       "    }\n",
       "\n",
       "    .dataframe tbody tr th {\n",
       "        vertical-align: top;\n",
       "    }\n",
       "\n",
       "    .dataframe thead th {\n",
       "        text-align: right;\n",
       "    }\n",
       "</style>\n",
       "<table border=\"1\" class=\"dataframe\">\n",
       "  <thead>\n",
       "    <tr style=\"text-align: right;\">\n",
       "      <th></th>\n",
       "      <th>level_0</th>\n",
       "      <th>index</th>\n",
       "      <th>Unnamed: 0</th>\n",
       "      <th>fit</th>\n",
       "      <th>bust size</th>\n",
       "      <th>weight</th>\n",
       "      <th>rating</th>\n",
       "      <th>rented for</th>\n",
       "      <th>body type</th>\n",
       "      <th>category</th>\n",
       "      <th>height</th>\n",
       "      <th>size</th>\n",
       "      <th>age</th>\n",
       "      <th>Labels</th>\n",
       "    </tr>\n",
       "  </thead>\n",
       "  <tbody>\n",
       "    <tr>\n",
       "      <th>0</th>\n",
       "      <td>-1.732040</td>\n",
       "      <td>-1.730590</td>\n",
       "      <td>-1.730590</td>\n",
       "      <td>-0.558048</td>\n",
       "      <td>-0.909026</td>\n",
       "      <td>-0.006648</td>\n",
       "      <td>0.640314</td>\n",
       "      <td>0.558800</td>\n",
       "      <td>0.078459</td>\n",
       "      <td>1.639954</td>\n",
       "      <td>1.079475</td>\n",
       "      <td>0.260727</td>\n",
       "      <td>-0.778317</td>\n",
       "      <td>2</td>\n",
       "    </tr>\n",
       "    <tr>\n",
       "      <th>1</th>\n",
       "      <td>-1.732018</td>\n",
       "      <td>-1.730572</td>\n",
       "      <td>-1.730572</td>\n",
       "      <td>-0.558048</td>\n",
       "      <td>-0.818708</td>\n",
       "      <td>-0.253613</td>\n",
       "      <td>0.640314</td>\n",
       "      <td>-1.887287</td>\n",
       "      <td>1.784613</td>\n",
       "      <td>-0.723204</td>\n",
       "      <td>0.755995</td>\n",
       "      <td>0.015234</td>\n",
       "      <td>0.504739</td>\n",
       "      <td>2</td>\n",
       "    </tr>\n",
       "    <tr>\n",
       "      <th>2</th>\n",
       "      <td>-1.731996</td>\n",
       "      <td>-1.730536</td>\n",
       "      <td>-1.730536</td>\n",
       "      <td>-0.558048</td>\n",
       "      <td>-0.863867</td>\n",
       "      <td>-0.105434</td>\n",
       "      <td>-0.752176</td>\n",
       "      <td>-1.071925</td>\n",
       "      <td>0.647177</td>\n",
       "      <td>-0.492652</td>\n",
       "      <td>-1.184887</td>\n",
       "      <td>-0.475752</td>\n",
       "      <td>0.183975</td>\n",
       "      <td>2</td>\n",
       "    </tr>\n",
       "    <tr>\n",
       "      <th>3</th>\n",
       "      <td>-1.731974</td>\n",
       "      <td>-1.730518</td>\n",
       "      <td>-1.730518</td>\n",
       "      <td>-0.558048</td>\n",
       "      <td>-0.818708</td>\n",
       "      <td>0.388495</td>\n",
       "      <td>0.640314</td>\n",
       "      <td>0.966482</td>\n",
       "      <td>-1.058976</td>\n",
       "      <td>-0.723204</td>\n",
       "      <td>1.241215</td>\n",
       "      <td>0.015234</td>\n",
       "      <td>-0.938699</td>\n",
       "      <td>2</td>\n",
       "    </tr>\n",
       "    <tr>\n",
       "      <th>4</th>\n",
       "      <td>-1.731952</td>\n",
       "      <td>-1.730500</td>\n",
       "      <td>-1.730500</td>\n",
       "      <td>-0.558048</td>\n",
       "      <td>-0.231642</td>\n",
       "      <td>0.042745</td>\n",
       "      <td>-0.752176</td>\n",
       "      <td>-0.256562</td>\n",
       "      <td>-1.058976</td>\n",
       "      <td>-0.492652</td>\n",
       "      <td>1.079475</td>\n",
       "      <td>-0.475752</td>\n",
       "      <td>1.948176</td>\n",
       "      <td>1</td>\n",
       "    </tr>\n",
       "  </tbody>\n",
       "</table>\n",
       "</div>"
      ],
      "text/plain": [
       "    level_0     index  Unnamed: 0       fit  bust size    weight    rating  \\\n",
       "0 -1.732040 -1.730590   -1.730590 -0.558048  -0.909026 -0.006648  0.640314   \n",
       "1 -1.732018 -1.730572   -1.730572 -0.558048  -0.818708 -0.253613  0.640314   \n",
       "2 -1.731996 -1.730536   -1.730536 -0.558048  -0.863867 -0.105434 -0.752176   \n",
       "3 -1.731974 -1.730518   -1.730518 -0.558048  -0.818708  0.388495  0.640314   \n",
       "4 -1.731952 -1.730500   -1.730500 -0.558048  -0.231642  0.042745 -0.752176   \n",
       "\n",
       "   rented for  body type  category    height      size       age Labels  \n",
       "0    0.558800   0.078459  1.639954  1.079475  0.260727 -0.778317      2  \n",
       "1   -1.887287   1.784613 -0.723204  0.755995  0.015234  0.504739      2  \n",
       "2   -1.071925   0.647177 -0.492652 -1.184887 -0.475752  0.183975      2  \n",
       "3    0.966482  -1.058976 -0.723204  1.241215  0.015234 -0.938699      2  \n",
       "4   -0.256562  -1.058976 -0.492652  1.079475 -0.475752  1.948176      1  "
      ]
     },
     "execution_count": 39,
     "metadata": {},
     "output_type": "execute_result"
    }
   ],
   "source": [
    "## joining the label dataframe with unscaled initial dataframe.(df)\n",
    "\n",
    "df_kmeans = df.join(df_labels)\n",
    "\n",
    "df_kmeans.head()"
   ]
  },
  {
   "cell_type": "code",
   "execution_count": 40,
   "id": "b56bdfaa",
   "metadata": {},
   "outputs": [
    {
     "data": {
      "text/plain": [
       "2    7821\n",
       "1    7717\n",
       "0    4462\n",
       "Name: Labels, dtype: int64"
      ]
     },
     "execution_count": 40,
     "metadata": {},
     "output_type": "execute_result"
    }
   ],
   "source": [
    "df_kmeans['Labels'].value_counts()"
   ]
  },
  {
   "cell_type": "code",
   "execution_count": 41,
   "id": "9bd40892",
   "metadata": {},
   "outputs": [
    {
     "name": "stdout",
     "output_type": "stream",
     "text": [
      "2 0.16315502180048116\n",
      "3 0.15409634894359506\n",
      "4 0.13241780559553717\n",
      "5 0.13171648095431984\n",
      "6 0.12296589347269325\n",
      "7 0.10853186621852579\n",
      "8 0.09582418804116423\n",
      "9 0.0960304968405802\n",
      "10 0.09494940683471861\n",
      "11 0.09367361573370747\n",
      "12 0.09288325406189535\n",
      "13 0.09182292901380759\n",
      "14 0.09968074858239685\n"
     ]
    }
   ],
   "source": [
    "#c. Compute silhoutte score for evaluating the quality of the Kmeans clustering technique.\n",
    "\n",
    "from sklearn.metrics import silhouette_score\n",
    "\n",
    "kmeans_score = []\n",
    "\n",
    "for i in range(2,15):\n",
    "    kmeans = KMeans(n_clusters=i)\n",
    "    kmeans = kmeans.fit(df_scaled)\n",
    "    labels = kmeans.predict(df_scaled)\n",
    "    print(i,silhouette_score(df_scaled,labels))\n",
    "    \n",
    "#from above we can say that silhoutte score is more for cluster 2 and 3.\n",
    "#So, the clusters are labelled as 0,1,2"
   ]
  },
  {
   "cell_type": "code",
   "execution_count": 47,
   "id": "11381259",
   "metadata": {},
   "outputs": [
    {
     "data": {
      "image/png": "[encoded data removed]",
      "text/plain": [
       "<Figure size 1008x648 with 1 Axes>"
      ]
     },
     "metadata": {},
     "output_type": "display_data"
    }
   ],
   "source": [
    "#Apply Agglomerative clustering and segment the data. (You may use original data or PCA transformed data) \n",
    "#a. Find the optimal K Value using dendrogram for Agglomerative clustering.\n",
    "ss = StandardScaler()\n",
    "\n",
    "df_scaled.iloc[:,:] = ss.fit_transform(df_scaled.iloc[:,:])\n",
    "\n",
    "plt.figure(figsize=[14,9])\n",
    "merg = linkage(df_scaled, method='ward')\n",
    "dendrogram(merg, leaf_rotation=90,)\n",
    "plt.xlabel('Datapoints')\n",
    "plt.ylabel('Euclidean distance')\n",
    "plt.show()"
   ]
  },
  {
   "cell_type": "code",
   "execution_count": 54,
   "id": "7ddee514",
   "metadata": {},
   "outputs": [],
   "source": [
    "#b. Build a Agglomerative clustering model using the obtained optimal K value observed from dendrogram\n",
    "hie_cluster = AgglomerativeClustering(n_clusters=3, affinity='euclidean',\n",
    "                                     linkage='ward')\n",
    "\n",
    "hie_cluster_model = hie_cluster.fit(df_scaled)"
   ]
  },
  {
   "cell_type": "code",
   "execution_count": 55,
   "id": "8af35b57",
   "metadata": {},
   "outputs": [
    {
     "data": {
      "text/html": [
       "<div>\n",
       "<style scoped>\n",
       "    .dataframe tbody tr th:only-of-type {\n",
       "        vertical-align: middle;\n",
       "    }\n",
       "\n",
       "    .dataframe tbody tr th {\n",
       "        vertical-align: top;\n",
       "    }\n",
       "\n",
       "    .dataframe thead th {\n",
       "        text-align: right;\n",
       "    }\n",
       "</style>\n",
       "<table border=\"1\" class=\"dataframe\">\n",
       "  <thead>\n",
       "    <tr style=\"text-align: right;\">\n",
       "      <th></th>\n",
       "      <th>Labels</th>\n",
       "    </tr>\n",
       "  </thead>\n",
       "  <tbody>\n",
       "    <tr>\n",
       "      <th>0</th>\n",
       "      <td>0</td>\n",
       "    </tr>\n",
       "    <tr>\n",
       "      <th>1</th>\n",
       "      <td>0</td>\n",
       "    </tr>\n",
       "    <tr>\n",
       "      <th>2</th>\n",
       "      <td>2</td>\n",
       "    </tr>\n",
       "    <tr>\n",
       "      <th>3</th>\n",
       "      <td>0</td>\n",
       "    </tr>\n",
       "    <tr>\n",
       "      <th>4</th>\n",
       "      <td>1</td>\n",
       "    </tr>\n",
       "    <tr>\n",
       "      <th>5</th>\n",
       "      <td>0</td>\n",
       "    </tr>\n",
       "    <tr>\n",
       "      <th>6</th>\n",
       "      <td>2</td>\n",
       "    </tr>\n",
       "    <tr>\n",
       "      <th>7</th>\n",
       "      <td>1</td>\n",
       "    </tr>\n",
       "    <tr>\n",
       "      <th>8</th>\n",
       "      <td>1</td>\n",
       "    </tr>\n",
       "    <tr>\n",
       "      <th>9</th>\n",
       "      <td>2</td>\n",
       "    </tr>\n",
       "  </tbody>\n",
       "</table>\n",
       "</div>"
      ],
      "text/plain": [
       "   Labels\n",
       "0       0\n",
       "1       0\n",
       "2       2\n",
       "3       0\n",
       "4       1\n",
       "5       0\n",
       "6       2\n",
       "7       1\n",
       "8       1\n",
       "9       2"
      ]
     },
     "execution_count": 55,
     "metadata": {},
     "output_type": "execute_result"
    }
   ],
   "source": [
    "## Creating a dataframe of the labels\n",
    "df_label1 = pd.DataFrame(hie_cluster_model.labels_,columns=['Labels'])\n",
    "df_label1.head(n=10)"
   ]
  },
  {
   "cell_type": "code",
   "execution_count": 56,
   "id": "f41c9946",
   "metadata": {},
   "outputs": [],
   "source": [
    "## joining the label dataframe with unscaled initial dataframe.(df)\n",
    "df_hier = df.join(df_label1)"
   ]
  },
  {
   "cell_type": "code",
   "execution_count": 57,
   "id": "816e4b64",
   "metadata": {},
   "outputs": [
    {
     "name": "stdout",
     "output_type": "stream",
     "text": [
      "2 0.0931087267188438\n",
      "3 0.10078832724805407\n",
      "4 0.09118592258972265\n",
      "5 0.06844585109370782\n",
      "6 0.07259870300323373\n",
      "7 0.07917029716980895\n",
      "8 0.07442019283459297\n",
      "9 0.08106244019781515\n",
      "10 0.06692330594100325\n",
      "11 0.07024340344905365\n",
      "12 0.054067273965465575\n",
      "13 0.05634952544899299\n",
      "14 0.058229657129991765\n"
     ]
    }
   ],
   "source": [
    "#c. Compute silhoutte score for evaluating the quality of the Agglomerative clustering technique\n",
    "\n",
    "from sklearn.metrics import silhouette_score\n",
    "for i in range(2,15):\n",
    "    hier = AgglomerativeClustering(n_clusters=i)\n",
    "    hier = hier.fit(df_scaled)\n",
    "    labels = hier.fit_predict(df_scaled)\n",
    "    print(i,silhouette_score(df_scaled,labels))\n",
    "    \n",
    "#from above we can say that silhoutte score is more for cluster 2 and 3.\n",
    "#Therefore there will be 3 classes using agglomerative clustering."
   ]
  },
  {
   "cell_type": "markdown",
   "id": "358e2d36",
   "metadata": {},
   "source": [
    "# 5. Conclusion :"
   ]
  },
  {
   "cell_type": "code",
   "execution_count": 58,
   "id": "db8f2454",
   "metadata": {},
   "outputs": [
    {
     "data": {
      "image/png": "[encoded data removed]",
      "text/plain": [
       "<Figure size 1008x432 with 1 Axes>"
      ]
     },
     "metadata": {},
     "output_type": "display_data"
    }
   ],
   "source": [
    "#17.Perform cluster analysis by doing bivariate analysis between cluster label and different features and\n",
    "#write your conclusion on the results.\n",
    "sns.barplot(df_kmeans['Labels'],df_kmeans['rented for'])\n",
    "plt.show()\n",
    "#the below bar plot shows what peple have rented cloth for different purposes"
   ]
  },
  {
   "cell_type": "code",
   "execution_count": 59,
   "id": "6ea25ad3",
   "metadata": {},
   "outputs": [
    {
     "data": {
      "text/plain": [
       "<AxesSubplot:xlabel='Labels', ylabel='category'>"
      ]
     },
     "execution_count": 59,
     "metadata": {},
     "output_type": "execute_result"
    },
    {
     "data": {
      "image/png": "[encoded data removed]",
      "text/plain": [
       "<Figure size 1008x432 with 1 Axes>"
      ]
     },
     "metadata": {},
     "output_type": "display_data"
    }
   ],
   "source": [
    "#This scatter plot shows differnt categories of products\n",
    "sns.set(rc={\"figure.figsize\":(14, 6)})\n",
    "sns.scatterplot(df_hier['Labels'],df_hier['category'])"
   ]
  },
  {
   "cell_type": "code",
   "execution_count": 60,
   "id": "929f9bb5",
   "metadata": {
    "scrolled": true
   },
   "outputs": [
    {
     "data": {
      "image/png": "[encoded data removed]",
      "text/plain": [
       "<Figure size 1296x432 with 1 Axes>"
      ]
     },
     "metadata": {},
     "output_type": "display_data"
    }
   ],
   "source": [
    "#the below bar plot shows what peple have rented cloths for different purposes\n",
    "sns.set(rc={\"figure.figsize\":(18, 6)})\n",
    "sns.countplot(data = df_hier, x = 'rented for', hue = 'Labels')\n",
    "plt.show()"
   ]
  },
  {
   "cell_type": "code",
   "execution_count": 43,
   "id": "0c9e3c50",
   "metadata": {
    "scrolled": true
   },
   "outputs": [],
   "source": [
    "# We built Kmeans clustering and Agglomerative clustering models\n",
    "#*KMeans* - for chosing the optimal k value we used elbow method (we chose K=3)\n",
    "#*Agglomerative* - for chosing the optimal k value we used dendogram (we chose k=3)\n",
    "# To conculde which clustering technique is performing the best, we evaluated through silhouette score\n",
    "#For Kmeans the highest silhouette score value is 0.62 for 2 clusters\n",
    "#For Agglomerative the highest silhouette score value is 0.097 for 2 clusters\n",
    "#So, we can choose the KMeans clustering model as our best and final model and optimal number of clusters as 2\n",
    "# Most of the people have rented clothes for party,formal atire and wedding,therefore the company has to focus more on \n",
    "#these factors to achieve growth in their business"
   ]
  }
 ],
 "metadata": {
  "kernelspec": {
   "display_name": "Python 3 (ipykernel)",
   "language": "python",
   "name": "python3"
  },
  "language_info": {
   "codemirror_mode": {
    "name": "ipython",
    "version": 3
   },
   "file_extension": ".py",
   "mimetype": "text/x-python",
   "name": "python",
   "nbconvert_exporter": "python",
   "pygments_lexer": "ipython3",
   "version": "3.9.7"
  }
 },
 "nbformat": 4,
 "nbformat_minor": 5
}
